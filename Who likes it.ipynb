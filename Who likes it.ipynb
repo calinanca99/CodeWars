{
 "cells": [
  {
   "cell_type": "code",
   "execution_count": 40,
   "metadata": {},
   "outputs": [],
   "source": [
    "def likes(names):\n",
    "    if len(names) == 0:\n",
    "        return 'no one likes this'\n",
    "    \n",
    "    elif len(names) == 1:\n",
    "        return names[0] + ' ' + 'likes this'\n",
    "    \n",
    "    elif len(names) == 2:\n",
    "        return names[0] + ' ' + 'and' +  ' ' + names[1] + ' ' + 'like this'\n",
    "    \n",
    "    elif len(names) == 3:\n",
    "        return names[0] + ','+ ' ' + names[1] + ' ' + 'and' + ' ' + names[2] + ' ' + 'like this'\n",
    "    \n",
    "    else:\n",
    "        return names[0] + ','+ \" \" + names[1] + \" \" + 'and' + \" \" + str(len(names[2:])) + \" \" + \"others like this.\""
   ]
  },
  {
   "cell_type": "code",
   "execution_count": 42,
   "metadata": {},
   "outputs": [
    {
     "data": {
      "text/plain": [
       "'Jacob, Alex and 3 others like this.'"
      ]
     },
     "execution_count": 42,
     "metadata": {},
     "output_type": "execute_result"
    }
   ],
   "source": [
    "likes(['Jacob', 'Alex', 'Mark', \"Anthony\", \"Ian\"])"
   ]
  },
  {
   "cell_type": "code",
   "execution_count": null,
   "metadata": {},
   "outputs": [],
   "source": []
  }
 ],
 "metadata": {
  "kernelspec": {
   "display_name": "Python 3",
   "language": "python",
   "name": "python3"
  },
  "language_info": {
   "codemirror_mode": {
    "name": "ipython",
    "version": 3
   },
   "file_extension": ".py",
   "mimetype": "text/x-python",
   "name": "python",
   "nbconvert_exporter": "python",
   "pygments_lexer": "ipython3",
   "version": "3.7.4"
  }
 },
 "nbformat": 4,
 "nbformat_minor": 2
}
