{
 "cells": [
  {
   "cell_type": "code",
   "execution_count": 47,
   "metadata": {},
   "outputs": [],
   "source": [
    "def narcissistic(num):\n",
    "    s = str(num)\n",
    "    digits = []\n",
    "    for i in s:\n",
    "        digits.append(int(i))\n",
    "        \n",
    "    #return digits\n",
    "    dttp = []\n",
    "    for i in digits:\n",
    "        dttp.append(i**len(digits))\n",
    "    \n",
    "    return sum(dttp) == num"
   ]
  }
 ],
 "metadata": {
  "kernelspec": {
   "display_name": "Python 3",
   "language": "python",
   "name": "python3"
  },
  "language_info": {
   "codemirror_mode": {
    "name": "ipython",
    "version": 3
   },
   "file_extension": ".py",
   "mimetype": "text/x-python",
   "name": "python",
   "nbconvert_exporter": "python",
   "pygments_lexer": "ipython3",
   "version": "3.7.4"
  }
 },
 "nbformat": 4,
 "nbformat_minor": 2
}
