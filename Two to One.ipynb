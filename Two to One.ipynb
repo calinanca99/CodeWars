{
 "cells": [
  {
   "cell_type": "code",
   "execution_count": 11,
   "metadata": {},
   "outputs": [],
   "source": [
    "def longest(s1, s2):\n",
    "    letters = [i for i in s1+s2]\n",
    "    letters.sort()\n",
    "    letters = list(dict.fromkeys(letters))\n",
    "    \n",
    "    string = \"\"\n",
    "    \n",
    "    for i in letters:\n",
    "        string += i\n",
    "        \n",
    "    return string"
   ]
  }
 ],
 "metadata": {
  "kernelspec": {
   "display_name": "Python 3",
   "language": "python",
   "name": "python3"
  },
  "language_info": {
   "codemirror_mode": {
    "name": "ipython",
    "version": 3
   },
   "file_extension": ".py",
   "mimetype": "text/x-python",
   "name": "python",
   "nbconvert_exporter": "python",
   "pygments_lexer": "ipython3",
   "version": "3.7.4"
  }
 },
 "nbformat": 4,
 "nbformat_minor": 2
}
